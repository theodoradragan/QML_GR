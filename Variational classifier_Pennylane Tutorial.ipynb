{
 "cells": [
  {
   "cell_type": "code",
   "execution_count": 1,
   "id": "4931bb25",
   "metadata": {},
   "outputs": [],
   "source": [
    "import pennylane as qml\n",
    "from pennylane import numpy as np\n",
    "from pennylane.optimize import NesterovMomentumOptimizer\n",
    "from sklearn.datasets import make_blobs\n",
    "import matplotlib.pyplot as plt\n",
    "from pandas import DataFrame\n",
    "import pandas as pd\n",
    "from pennylane.templates.embeddings import AmplitudeEmbedding\n",
    "from scipy.special import rel_entr"
   ]
  },
  {
   "cell_type": "markdown",
   "id": "f62cc48d",
   "metadata": {},
   "source": [
    "Computing Expressibility-needed values"
   ]
  },
  {
   "cell_type": "code",
   "execution_count": 2,
   "id": "1d0473e0",
   "metadata": {},
   "outputs": [],
   "source": [
    "##### Code adapted from https://github.com/bagmk/Quantum_Machine_Learning_Express\n",
    "fidelity = []\n",
    "sampled_states = 2000\n",
    "nshots = 1024\n",
    "n_histograms = 76\n",
    "N = 16\n",
    "\n",
    "# Histogram bins\n",
    "bins_list = [];\n",
    "for i in range(n_histograms):\n",
    "    bins_list.append((i) / (n_histograms - 1))\n",
    "    \n",
    "# Centers of the bins\n",
    "bins_centers = []    \n",
    "for i in range(n_histograms - 1):\n",
    "    bins_centers.append(bins_list[1] + bins_list[i])\n",
    "\n",
    "# Estimated distribution of Haar fidelities\n",
    "# it is the integral of the Haar formula fidelity\n",
    "# between the left and right values\n",
    "def P_Haar(left_bin, right_bin, N):\n",
    "    return (1 - left_bin)**(N - 1) - (1 - right_bin)**(N - 1)\n",
    "\n",
    "# Haar histogram values\n",
    "P_Haar_hist = []\n",
    "for i in range(n_histograms - 1):\n",
    "    P_Haar_hist.append(P_Haar(bins_list[i], bins_list[i+1], N))"
   ]
  },
  {
   "cell_type": "code",
   "execution_count": 3,
   "id": "49f155da",
   "metadata": {},
   "outputs": [
    {
     "data": {
      "image/png": "[encoded data removed]",
      "text/plain": [
       "<Figure size 432x288 with 1 Axes>"
      ]
     },
     "metadata": {
      "needs_background": "light"
     },
     "output_type": "display_data"
    }
   ],
   "source": [
    "# generate 2d classification dataset\n",
    "features, labels = make_blobs(n_samples=500, centers=2, cluster_std=4.0, n_features=16)\n",
    "\n",
    "# scatter plot, dots colored by class value\n",
    "df = DataFrame(dict(x=features[:,0], y=features[:,1], label=labels))\n",
    "\n",
    "colors = {0:'red', 1:'blue'}\n",
    "fig, ax = plt.subplots()\n",
    "grouped = df.groupby('label')\n",
    "for key, group in grouped:\n",
    "    group.plot(ax=ax, kind='scatter', x='x', y='y', label=key, color=colors[key])\n",
    "plt.show()"
   ]
  },
  {
   "cell_type": "code",
   "execution_count": 4,
   "id": "6555b570",
   "metadata": {},
   "outputs": [],
   "source": [
    "dev = qml.device(\"default.qubit\", wires=4, shots=1024)"
   ]
  },
  {
   "cell_type": "code",
   "execution_count": 5,
   "id": "2ec08fe1",
   "metadata": {},
   "outputs": [],
   "source": [
    "def layer(W):\n",
    "\n",
    "    qml.Rot(W[0, 0], W[0, 1], W[0, 2], wires=0)\n",
    "    qml.Rot(W[1, 0], W[1, 1], W[1, 2], wires=1)\n",
    "    qml.Rot(W[2, 0], W[2, 1], W[2, 2], wires=2)\n",
    "    qml.Rot(W[3, 0], W[3, 1], W[3, 2], wires=3)\n",
    "\n",
    "    qml.CNOT(wires=[0, 1])\n",
    "    qml.CNOT(wires=[1, 2])\n",
    "    qml.CNOT(wires=[2, 3])\n",
    "    qml.CNOT(wires=[3, 0])"
   ]
  },
  {
   "cell_type": "code",
   "execution_count": 6,
   "id": "4395414f",
   "metadata": {},
   "outputs": [],
   "source": [
    "def statepreparation(x):\n",
    "    AmplitudeEmbedding(features=x, wires=[0, 1, 2, 3],normalize=\"True\")"
   ]
  },
  {
   "cell_type": "code",
   "execution_count": 7,
   "id": "18029296",
   "metadata": {},
   "outputs": [],
   "source": [
    "@qml.qnode(dev)\n",
    "def circuit(weights, x):\n",
    "\n",
    "    statepreparation(x)\n",
    "\n",
    "    for W in weights:\n",
    "        layer(W)\n",
    "\n",
    "    #return qml.expval(qml.PauliZ(0)), qml.expval(qml.PauliZ(1)), qml.expval(qml.PauliZ(2)), qml.expval(qml.PauliZ(3))\n",
    "    return qml.sample()"
   ]
  },
  {
   "cell_type": "code",
   "execution_count": 8,
   "id": "34825fad",
   "metadata": {},
   "outputs": [],
   "source": [
    "def variational_classifier(weights, bias, x):\n",
    "    return circuit(weights, x) + bias"
   ]
  },
  {
   "cell_type": "code",
   "execution_count": 9,
   "id": "deac5baa",
   "metadata": {},
   "outputs": [],
   "source": [
    "def square_loss(labels, predictions):\n",
    "    loss = 0\n",
    "    for l, p in zip(labels, predictions):\n",
    "        loss = loss + (l - p) ** 2\n",
    "\n",
    "    loss = loss / len(labels)\n",
    "    return loss"
   ]
  },
  {
   "cell_type": "code",
   "execution_count": 10,
   "id": "6368bca8",
   "metadata": {},
   "outputs": [],
   "source": [
    "def accuracy(labels, predictions):\n",
    "\n",
    "    loss = 0\n",
    "    for l, p in zip(labels, predictions):\n",
    "        if abs(l - p) < 1e-5:\n",
    "            loss = loss + 1\n",
    "    loss = loss / len(labels)\n",
    "\n",
    "    return loss"
   ]
  },
  {
   "cell_type": "code",
   "execution_count": 11,
   "id": "0ad315a3",
   "metadata": {},
   "outputs": [],
   "source": [
    "def cost(weights, bias, X, Y):\n",
    "    predictions = [variational_classifier(weights, bias, x) for x in X]\n",
    "    return square_loss(Y, predictions)"
   ]
  },
  {
   "cell_type": "code",
   "execution_count": 12,
   "id": "95d3ef6a",
   "metadata": {},
   "outputs": [],
   "source": [
    "X = np.array(features, requires_grad=False)\n",
    "Y = np.array(labels, requires_grad=False)\n",
    "Y = Y * 2 - np.ones(len(Y))  # shift label from {0, 1} to {-1, 1}\n",
    "\n",
    "#for i in range(5):\n",
    "#    print(\"X = {}, Y = {: d}\".format(X[i], int(Y[i])))\n",
    "    \n",
    "######\n",
    "\n",
    "np.random.seed(0)\n",
    "num_data = len(Y)\n",
    "num_train = int(0.75 * num_data)\n",
    "index = np.random.permutation(range(num_data))\n",
    "feats_train = features[index[:num_train]]\n",
    "Y_train = Y[index[:num_train]]\n",
    "feats_val = features[index[num_train:]]\n",
    "Y_val = Y[index[num_train:]]\n",
    "\n",
    "# We need these later for plotting\n",
    "X_train = X[index[:num_train]]\n",
    "X_val = X[index[num_train:]]"
   ]
  },
  {
   "cell_type": "code",
   "execution_count": 17,
   "id": "bbe31887",
   "metadata": {},
   "outputs": [
    {
     "name": "stdout",
     "output_type": "stream",
     "text": [
      "[[[3.44829694 4.49366732 3.78727399]\n",
      "  [3.42360201 2.66190161 4.0582724 ]\n",
      "  [2.74944154 5.60317502 6.0548717 ]\n",
      "  [2.40923412 4.97455513 3.32314479]]\n",
      "\n",
      " [[3.56912924 5.8156952  0.44633272]\n",
      "  [0.54744954 0.12703594 5.23150478]\n",
      "  [4.88930306 5.46644755 6.14884039]\n",
      "  [5.02126135 2.89956035 4.90420945]]\n",
      "\n",
      " [[0.74314013 4.02074236 0.90071527]\n",
      "  [5.93552986 3.27886971 2.60539781]\n",
      "  [1.66225193 4.86465374 2.86607707]\n",
      "  [3.57157584 0.1180598  3.88071828]]] 0.0\n"
     ]
    }
   ],
   "source": [
    "np.random.seed(0)\n",
    "num_qubits = 4\n",
    "num_layers = 3\n",
    "weights_init = 2 * np.pi * np.random.rand(num_layers, num_qubits, 3, requires_grad=True)\n",
    "bias_init = np.array(0.0, requires_grad=True)\n",
    "\n",
    "print(weights_init, bias_init)"
   ]
  },
  {
   "cell_type": "code",
   "execution_count": 18,
   "id": "89c61314",
   "metadata": {},
   "outputs": [
    {
     "data": {
      "image/png": "[encoded data removed]",
      "text/plain": [
       "<Figure size 432x288 with 1 Axes>"
      ]
     },
     "metadata": {
      "needs_background": "light"
     },
     "output_type": "display_data"
    },
    {
     "name": "stdout",
     "output_type": "stream",
     "text": [
      "KL(P || Q): 0.334 nats\n"
     ]
    }
   ],
   "source": [
    "##### More code adapted from https://github.com/bagmk/Quantum_Machine_Learning_Express\n",
    "x = X_train[0]\n",
    "for state in range(sampled_states):\n",
    "    weights_init = np.random.randn(num_layers, num_qubits, 3, requires_grad=True)\n",
    "    result = variational_classifier(weights_init, bias_init, x)\n",
    "    result_strings = [\"\".join(map(str, [int(res[0]), int(res[1]), int(res[2]), int(res[3])])) for res in result.numpy()]\n",
    "    ratio = result_strings.count(\"0000\") / nshots\n",
    "    fidelity.append(ratio)\n",
    "\n",
    "weights = np.ones_like(fidelity)/float(len(fidelity))\n",
    "plt.hist(fidelity, bins=bins_list, weights=weights, range=[0, 1], label='Circuit 1')\n",
    "plt.plot(bins_centers, P_Haar_hist, label='Haar')\n",
    "plt.legend(loc='upper right')\n",
    "plt.show()\n",
    "\n",
    "# example of calculating the kl divergence (relative entropy) with scipy\n",
    "P_1_hist = np.histogram(fidelity, bins=bins_list, weights=weights, range=[0, 1])[0]\n",
    "kl_pq = rel_entr(P_1_hist, P_Haar_hist)\n",
    "print('KL(P || Q): %.3f nats' % sum(kl_pq))"
   ]
  },
  {
   "cell_type": "markdown",
   "id": "10ec18f8",
   "metadata": {},
   "source": [
    "Let's do the Entanglement capability"
   ]
  },
  {
   "cell_type": "code",
   "execution_count": 58,
   "id": "b266b055",
   "metadata": {},
   "outputs": [
    {
     "name": "stdout",
     "output_type": "stream",
     "text": [
      "[0 0 1 0]\n",
      "0.0\n",
      "[0.70710678 0.         0.         0.70710678]\n",
      "0.0\n"
     ]
    }
   ],
   "source": [
    "### Must be debugged\n",
    "import math\n",
    "sampled_states = 1\n",
    "def D_distance(vec_1, vec_2):\n",
    "    assert len(vec_1) == len(vec_2)\n",
    "    d = 0\n",
    "    for i in range(len(vec_1)):\n",
    "        for j in range(len(vec_2)):\n",
    "            d = d + abs(vec_1[i]*vec_2[j] - vec_1[j]*vec_2[i])**2\n",
    "    return d/2\n",
    "\n",
    "def i_func(i, j, psi):\n",
    "    psi = psi.numpy()\n",
    "    if psi[j] == i:\n",
    "        if j == 0:\n",
    "            return psi[1:]\n",
    "        else:\n",
    "            first = psi[:j]\n",
    "            if j + 1 < 4:\n",
    "                return np.concatenate((first, psi[j+1:]))\n",
    "            return first\n",
    "    return np.zeros(len(psi)-1)\n",
    "\n",
    "def i_func_hehe(i, j, psi):\n",
    "    #psi = psi.numpy()\n",
    "    if psi[j] == i:\n",
    "        if j == 0:\n",
    "            return psi[1:]\n",
    "        else:\n",
    "            first = psi[:j]\n",
    "            if j + 1 < 4:\n",
    "                return np.concatenate((first, psi[j+1:]))\n",
    "            return first\n",
    "    return np.zeros(len(psi)-1)\n",
    "\n",
    "def Q_entanglement():\n",
    "    x = X_train[0]\n",
    "    for state_idx in range(sampled_states):\n",
    "        print(state_idx)\n",
    "        weights_init = np.random.randn(num_layers, num_qubits, 3, requires_grad=True)\n",
    "        result = variational_classifier(weights_init, bias_init, x)\n",
    "        Q = 0\n",
    "        n = 4 # log2(N)\n",
    "        for res in result:\n",
    "            q = 0\n",
    "            for j in range(n):\n",
    "                i0 = i_func(0, j, res)\n",
    "                i1 = i_func(1, j, res)\n",
    "                #print(i0, i1)\n",
    "                q = q + D_distance(i0, i1)\n",
    "            q = q * 4 / n\n",
    "            Q = Q + q\n",
    "        print(\"Entanglement so far: \", Q / (state_idx+1))\n",
    "    return Q / sampled_states\n",
    "\n",
    "n = 4\n",
    "q_01 = 0\n",
    "res = np.array([0,0,1,0])\n",
    "print(res)\n",
    "for j in range(n):\n",
    "    i0 = i_func_hehe(0, j, res)\n",
    "    i1 = i_func_hehe(1, j, res)\n",
    "    #print(i0, i1)\n",
    "q_01 = q_01 + D_distance(i0, i1)\n",
    "q_01 = q_01 * 4 / n\n",
    "print(q_01)\n",
    "\n",
    "n = 4\n",
    "q_01 = 0\n",
    "res = np.array([1/math.sqrt(2),0,0,1/math.sqrt(2)])\n",
    "print(res)\n",
    "for j in range(n):\n",
    "    i0 = i_func_hehe(0, j, res)\n",
    "    i1 = i_func_hehe(1, j, res)\n",
    "    #print(i0, i1)\n",
    "q_01 = q_01 + D_distance(i0, i1)\n",
    "q_01 = q_01 * 4 / n\n",
    "print(q_01)"
   ]
  },
  {
   "cell_type": "code",
   "execution_count": 15,
   "id": "0d0a6abe",
   "metadata": {},
   "outputs": [
    {
     "ename": "TypeError",
     "evalue": "Grad only applies to real scalar-output functions. Try jacobian, elementwise_grad or holomorphic_grad.",
     "output_type": "error",
     "traceback": [
      "\u001b[1;31m---------------------------------------------------------------------------\u001b[0m",
      "\u001b[1;31mTypeError\u001b[0m                                 Traceback (most recent call last)",
      "\u001b[1;32m~\\AppData\\Local\\Temp/ipykernel_22476/3383852186.py\u001b[0m in \u001b[0;36m<module>\u001b[1;34m\u001b[0m\n\u001b[0;32m     14\u001b[0m     \u001b[0mX_train_batch\u001b[0m \u001b[1;33m=\u001b[0m \u001b[0mX_train\u001b[0m\u001b[1;33m[\u001b[0m\u001b[0mbatch_index\u001b[0m\u001b[1;33m]\u001b[0m\u001b[1;33m\u001b[0m\u001b[1;33m\u001b[0m\u001b[0m\n\u001b[0;32m     15\u001b[0m     \u001b[0mY_train_batch\u001b[0m \u001b[1;33m=\u001b[0m \u001b[0mY_train\u001b[0m\u001b[1;33m[\u001b[0m\u001b[0mbatch_index\u001b[0m\u001b[1;33m]\u001b[0m\u001b[1;33m\u001b[0m\u001b[1;33m\u001b[0m\u001b[0m\n\u001b[1;32m---> 16\u001b[1;33m     \u001b[0mweights\u001b[0m\u001b[1;33m,\u001b[0m \u001b[0mbias\u001b[0m\u001b[1;33m,\u001b[0m \u001b[0m_\u001b[0m\u001b[1;33m,\u001b[0m \u001b[0m_\u001b[0m \u001b[1;33m=\u001b[0m \u001b[0mopt\u001b[0m\u001b[1;33m.\u001b[0m\u001b[0mstep\u001b[0m\u001b[1;33m(\u001b[0m\u001b[0mcost\u001b[0m\u001b[1;33m,\u001b[0m \u001b[0mweights\u001b[0m\u001b[1;33m,\u001b[0m \u001b[0mbias\u001b[0m\u001b[1;33m,\u001b[0m \u001b[0mX_train_batch\u001b[0m\u001b[1;33m,\u001b[0m \u001b[0mY_train_batch\u001b[0m\u001b[1;33m)\u001b[0m\u001b[1;33m\u001b[0m\u001b[1;33m\u001b[0m\u001b[0m\n\u001b[0m\u001b[0;32m     17\u001b[0m \u001b[1;33m\u001b[0m\u001b[0m\n\u001b[0;32m     18\u001b[0m     \u001b[1;31m# Compute predictions on train and validation set\u001b[0m\u001b[1;33m\u001b[0m\u001b[1;33m\u001b[0m\u001b[0m\n",
      "\u001b[1;32m~\\Anaconda3\\envs\\qc\\lib\\site-packages\\pennylane\\optimize\\gradient_descent.py\u001b[0m in \u001b[0;36mstep\u001b[1;34m(self, objective_fn, grad_fn, *args, **kwargs)\u001b[0m\n\u001b[0;32m    127\u001b[0m         \"\"\"\n\u001b[0;32m    128\u001b[0m \u001b[1;33m\u001b[0m\u001b[0m\n\u001b[1;32m--> 129\u001b[1;33m         \u001b[0mg\u001b[0m\u001b[1;33m,\u001b[0m \u001b[0m_\u001b[0m \u001b[1;33m=\u001b[0m \u001b[0mself\u001b[0m\u001b[1;33m.\u001b[0m\u001b[0mcompute_grad\u001b[0m\u001b[1;33m(\u001b[0m\u001b[0mobjective_fn\u001b[0m\u001b[1;33m,\u001b[0m \u001b[0margs\u001b[0m\u001b[1;33m,\u001b[0m \u001b[0mkwargs\u001b[0m\u001b[1;33m,\u001b[0m \u001b[0mgrad_fn\u001b[0m\u001b[1;33m=\u001b[0m\u001b[0mgrad_fn\u001b[0m\u001b[1;33m)\u001b[0m\u001b[1;33m\u001b[0m\u001b[1;33m\u001b[0m\u001b[0m\n\u001b[0m\u001b[0;32m    130\u001b[0m         \u001b[0mnew_args\u001b[0m \u001b[1;33m=\u001b[0m \u001b[0mself\u001b[0m\u001b[1;33m.\u001b[0m\u001b[0mapply_grad\u001b[0m\u001b[1;33m(\u001b[0m\u001b[0mg\u001b[0m\u001b[1;33m,\u001b[0m \u001b[0margs\u001b[0m\u001b[1;33m)\u001b[0m\u001b[1;33m\u001b[0m\u001b[1;33m\u001b[0m\u001b[0m\n\u001b[0;32m    131\u001b[0m \u001b[1;33m\u001b[0m\u001b[0m\n",
      "\u001b[1;32m~\\Anaconda3\\envs\\qc\\lib\\site-packages\\pennylane\\optimize\\nesterov_momentum.py\u001b[0m in \u001b[0;36mcompute_grad\u001b[1;34m(self, objective_fn, args, kwargs, grad_fn)\u001b[0m\n\u001b[0;32m     85\u001b[0m \u001b[1;33m\u001b[0m\u001b[0m\n\u001b[0;32m     86\u001b[0m         \u001b[0mg\u001b[0m \u001b[1;33m=\u001b[0m \u001b[0mget_gradient\u001b[0m\u001b[1;33m(\u001b[0m\u001b[0mobjective_fn\u001b[0m\u001b[1;33m)\u001b[0m \u001b[1;32mif\u001b[0m \u001b[0mgrad_fn\u001b[0m \u001b[1;32mis\u001b[0m \u001b[1;32mNone\u001b[0m \u001b[1;32melse\u001b[0m \u001b[0mgrad_fn\u001b[0m\u001b[1;33m\u001b[0m\u001b[1;33m\u001b[0m\u001b[0m\n\u001b[1;32m---> 87\u001b[1;33m         \u001b[0mgrad\u001b[0m \u001b[1;33m=\u001b[0m \u001b[0mg\u001b[0m\u001b[1;33m(\u001b[0m\u001b[1;33m*\u001b[0m\u001b[0mshifted_args\u001b[0m\u001b[1;33m,\u001b[0m \u001b[1;33m**\u001b[0m\u001b[0mkwargs\u001b[0m\u001b[1;33m)\u001b[0m\u001b[1;33m\u001b[0m\u001b[1;33m\u001b[0m\u001b[0m\n\u001b[0m\u001b[0;32m     88\u001b[0m         \u001b[0mforward\u001b[0m \u001b[1;33m=\u001b[0m \u001b[0mgetattr\u001b[0m\u001b[1;33m(\u001b[0m\u001b[0mg\u001b[0m\u001b[1;33m,\u001b[0m \u001b[1;34m\"forward\"\u001b[0m\u001b[1;33m,\u001b[0m \u001b[1;32mNone\u001b[0m\u001b[1;33m)\u001b[0m\u001b[1;33m\u001b[0m\u001b[1;33m\u001b[0m\u001b[0m\n\u001b[0;32m     89\u001b[0m \u001b[1;33m\u001b[0m\u001b[0m\n",
      "\u001b[1;32m~\\Anaconda3\\envs\\qc\\lib\\site-packages\\pennylane\\_grad.py\u001b[0m in \u001b[0;36m__call__\u001b[1;34m(self, *args, **kwargs)\u001b[0m\n\u001b[0;32m    118\u001b[0m         \"\"\"Evaluates the gradient function, and saves the function value\n\u001b[0;32m    119\u001b[0m         calculated during the forward pass in :attr:`.forward`.\"\"\"\n\u001b[1;32m--> 120\u001b[1;33m         \u001b[0mgrad_value\u001b[0m\u001b[1;33m,\u001b[0m \u001b[0mans\u001b[0m \u001b[1;33m=\u001b[0m \u001b[0mself\u001b[0m\u001b[1;33m.\u001b[0m\u001b[0m_get_grad_fn\u001b[0m\u001b[1;33m(\u001b[0m\u001b[0margs\u001b[0m\u001b[1;33m)\u001b[0m\u001b[1;33m(\u001b[0m\u001b[1;33m*\u001b[0m\u001b[0margs\u001b[0m\u001b[1;33m,\u001b[0m \u001b[1;33m**\u001b[0m\u001b[0mkwargs\u001b[0m\u001b[1;33m)\u001b[0m\u001b[1;33m\u001b[0m\u001b[1;33m\u001b[0m\u001b[0m\n\u001b[0m\u001b[0;32m    121\u001b[0m         \u001b[0mself\u001b[0m\u001b[1;33m.\u001b[0m\u001b[0m_forward\u001b[0m \u001b[1;33m=\u001b[0m \u001b[0mans\u001b[0m\u001b[1;33m\u001b[0m\u001b[1;33m\u001b[0m\u001b[0m\n\u001b[0;32m    122\u001b[0m         \u001b[1;32mreturn\u001b[0m \u001b[0mgrad_value\u001b[0m\u001b[1;33m\u001b[0m\u001b[1;33m\u001b[0m\u001b[0m\n",
      "\u001b[1;32m~\\Anaconda3\\envs\\qc\\lib\\site-packages\\autograd\\wrap_util.py\u001b[0m in \u001b[0;36mnary_f\u001b[1;34m(*args, **kwargs)\u001b[0m\n\u001b[0;32m     18\u001b[0m             \u001b[1;32melse\u001b[0m\u001b[1;33m:\u001b[0m\u001b[1;33m\u001b[0m\u001b[1;33m\u001b[0m\u001b[0m\n\u001b[0;32m     19\u001b[0m                 \u001b[0mx\u001b[0m \u001b[1;33m=\u001b[0m \u001b[0mtuple\u001b[0m\u001b[1;33m(\u001b[0m\u001b[0margs\u001b[0m\u001b[1;33m[\u001b[0m\u001b[0mi\u001b[0m\u001b[1;33m]\u001b[0m \u001b[1;32mfor\u001b[0m \u001b[0mi\u001b[0m \u001b[1;32min\u001b[0m \u001b[0margnum\u001b[0m\u001b[1;33m)\u001b[0m\u001b[1;33m\u001b[0m\u001b[1;33m\u001b[0m\u001b[0m\n\u001b[1;32m---> 20\u001b[1;33m             \u001b[1;32mreturn\u001b[0m \u001b[0munary_operator\u001b[0m\u001b[1;33m(\u001b[0m\u001b[0munary_f\u001b[0m\u001b[1;33m,\u001b[0m \u001b[0mx\u001b[0m\u001b[1;33m,\u001b[0m \u001b[1;33m*\u001b[0m\u001b[0mnary_op_args\u001b[0m\u001b[1;33m,\u001b[0m \u001b[1;33m**\u001b[0m\u001b[0mnary_op_kwargs\u001b[0m\u001b[1;33m)\u001b[0m\u001b[1;33m\u001b[0m\u001b[1;33m\u001b[0m\u001b[0m\n\u001b[0m\u001b[0;32m     21\u001b[0m         \u001b[1;32mreturn\u001b[0m \u001b[0mnary_f\u001b[0m\u001b[1;33m\u001b[0m\u001b[1;33m\u001b[0m\u001b[0m\n\u001b[0;32m     22\u001b[0m     \u001b[1;32mreturn\u001b[0m \u001b[0mnary_operator\u001b[0m\u001b[1;33m\u001b[0m\u001b[1;33m\u001b[0m\u001b[0m\n",
      "\u001b[1;32m~\\Anaconda3\\envs\\qc\\lib\\site-packages\\pennylane\\_grad.py\u001b[0m in \u001b[0;36m_grad_with_forward\u001b[1;34m(fun, x)\u001b[0m\n\u001b[0;32m    138\u001b[0m \u001b[1;33m\u001b[0m\u001b[0m\n\u001b[0;32m    139\u001b[0m         \u001b[1;32mif\u001b[0m \u001b[1;32mnot\u001b[0m \u001b[0mvspace\u001b[0m\u001b[1;33m(\u001b[0m\u001b[0mans\u001b[0m\u001b[1;33m)\u001b[0m\u001b[1;33m.\u001b[0m\u001b[0msize\u001b[0m \u001b[1;33m==\u001b[0m \u001b[1;36m1\u001b[0m\u001b[1;33m:\u001b[0m\u001b[1;33m\u001b[0m\u001b[1;33m\u001b[0m\u001b[0m\n\u001b[1;32m--> 140\u001b[1;33m             raise TypeError(\n\u001b[0m\u001b[0;32m    141\u001b[0m                 \u001b[1;34m\"Grad only applies to real scalar-output functions. \"\u001b[0m\u001b[1;33m\u001b[0m\u001b[1;33m\u001b[0m\u001b[0m\n\u001b[0;32m    142\u001b[0m                 \u001b[1;34m\"Try jacobian, elementwise_grad or holomorphic_grad.\"\u001b[0m\u001b[1;33m\u001b[0m\u001b[1;33m\u001b[0m\u001b[0m\n",
      "\u001b[1;31mTypeError\u001b[0m: Grad only applies to real scalar-output functions. Try jacobian, elementwise_grad or holomorphic_grad."
     ]
    }
   ],
   "source": [
    "# Taken from Pennylane tutorial\n",
    "opt = NesterovMomentumOptimizer(0.1)\n",
    "batch_size = 5\n",
    "\n",
    "weights = weights_init\n",
    "bias = bias_init\n",
    "\n",
    "history_train = []\n",
    "history_validation = []\n",
    "epochs = 35\n",
    "\n",
    "for it in range(epochs):\n",
    "\n",
    "    # Update the weights by one optimizer step\n",
    "    batch_index = np.random.randint(0, num_train, (batch_size,))\n",
    "    X_train_batch = X_train[batch_index]\n",
    "    Y_train_batch = Y_train[batch_index]\n",
    "    weights, bias, _, _ = opt.step(cost, weights, bias, X_train_batch, Y_train_batch)\n",
    "\n",
    "    # Compute predictions on train and validation set\n",
    "    predictions_train = [np.sign(variational_classifier(weights, bias, f)) for f in X_train]\n",
    "    predictions_val = [np.sign(variational_classifier(weights, bias, f)) for f in X_val]\n",
    "    \n",
    "    if it == epochs - 1:\n",
    "    \n",
    "        df1 = DataFrame(dict(x=X_val[:,0], y=X_val[:,1], label=Y_val))\n",
    "        colors1 = {-1:'red', 1:'blue'}\n",
    "        fig, ax = plt.subplots()\n",
    "        grouped = df1.groupby('label')\n",
    "        for key, group in grouped:\n",
    "            group.plot(ax=ax, kind='scatter', x='x', y='y', label=key, color=colors1[key], s=50, alpha=0.5)\n",
    "        #plt.plot()\n",
    "\n",
    "\n",
    "        df2 = DataFrame(dict(x=X_val[:,0].numpy(), y=X_val[:,1].numpy(), label=predictions_val))\n",
    "        colors2 = {-1:'orange', 1:'green'}\n",
    "        fig, ax = plt.subplots()\n",
    "        grouped2 = df2.groupby('label')\n",
    "        for key, group in grouped2:\n",
    "            key = key.numpy()\n",
    "            group.plot(ax=ax, kind='scatter', x='x', y='y', label=key, color=colors2[key], s=50, alpha=0.5)\n",
    "        plt.plot()\n",
    "\n",
    "        #result = pd.merge(df1, df2,  how='left', left_on=['x','y'], right_on = ['x','y'])\n",
    "    \n",
    "        #print(result.head)\n",
    "\n",
    "    # Compute accuracy on train and validation set\n",
    "    acc_train = accuracy(Y_train, predictions_train)\n",
    "    acc_val = accuracy(Y_val, predictions_val)\n",
    "    \n",
    "    history_train.append(acc_train)\n",
    "    history_validation.append(acc_val)\n",
    "\n",
    "    print(\n",
    "        \"Iter: {:5d} | Cost: {:0.7f} | Acc train: {:0.7f} | Acc validation: {:0.7f} \"\n",
    "        \"\".format(it + 1, cost(weights, bias, features, Y), acc_train, acc_val)\n",
    "    )"
   ]
  },
  {
   "cell_type": "code",
   "execution_count": null,
   "id": "56080ff9",
   "metadata": {},
   "outputs": [],
   "source": [
    "df2 = DataFrame(dict(x=X_val[:,0].numpy(), y=X_val[:,1].numpy(), label=predictions_val))\n",
    "colors2 = {-1:'orange', 1:'green'}\n",
    "fig, ax = plt.subplots()\n",
    "grouped2 = df2.groupby('label')\n",
    "for key, group in grouped2:\n",
    "    key = key.numpy()\n",
    "    group.plot(ax=ax, kind='scatter', x='x', y='y', label=key, color=colors2[key], s=50, alpha=0.5)\n",
    "plt.plot()"
   ]
  },
  {
   "cell_type": "code",
   "execution_count": null,
   "id": "d111ed6e",
   "metadata": {},
   "outputs": [],
   "source": [
    "plt.plot(history_train)\n",
    "plt.plot(history_validation)\n",
    "plt.title('model accuracy')\n",
    "plt.ylabel('accuracy')\n",
    "plt.xlabel('epoch')\n",
    "plt.legend(['train', 'validation'], loc='upper left')\n",
    "plt.show()"
   ]
  }
 ],
 "metadata": {
  "kernelspec": {
   "display_name": "Python 3 (ipykernel)",
   "language": "python",
   "name": "python3"
  },
  "language_info": {
   "codemirror_mode": {
    "name": "ipython",
    "version": 3
   },
   "file_extension": ".py",
   "mimetype": "text/x-python",
   "name": "python",
   "nbconvert_exporter": "python",
   "pygments_lexer": "ipython3",
   "version": "3.9.7"
  }
 },
 "nbformat": 4,
 "nbformat_minor": 5
}
