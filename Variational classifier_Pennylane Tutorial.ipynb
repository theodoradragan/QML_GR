{
 "cells": [
  {
   "cell_type": "code",
   "execution_count": 1,
   "metadata": {},
   "outputs": [],
   "source": [
    "import pennylane as qml\n",
    "from pennylane import numpy as np\n",
    "from pennylane.optimize import NesterovMomentumOptimizer\n",
    "from sklearn.datasets import make_blobs\n",
    "import matplotlib.pyplot as plt\n",
    "from pandas import DataFrame\n",
    "from pennylane.templates.embeddings import AmplitudeEmbedding"
   ]
  },
  {
   "cell_type": "code",
   "execution_count": 2,
   "metadata": {},
   "outputs": [
    {
     "data": {
      "image/png": "[encoded data removed]",
      "text/plain": [
       "<Figure size 432x288 with 1 Axes>"
      ]
     },
     "metadata": {
      "needs_background": "light"
     },
     "output_type": "display_data"
    }
   ],
   "source": [
    "# generate 2d classification dataset\n",
    "features, labels = make_blobs(n_samples=500, centers=2, n_features=16)\n",
    "\n",
    "# scatter plot, dots colored by class value\n",
    "df = DataFrame(dict(x=features[:,0], y=features[:,1], label=labels))\n",
    "\n",
    "colors = {0:'red', 1:'blue'}\n",
    "fig, ax = plt.subplots()\n",
    "grouped = df.groupby('label')\n",
    "for key, group in grouped:\n",
    "    group.plot(ax=ax, kind='scatter', x='x', y='y', label=key, color=colors[key])\n",
    "plt.show()"
   ]
  },
  {
   "cell_type": "code",
   "execution_count": 3,
   "metadata": {},
   "outputs": [],
   "source": [
    "dev = qml.device(\"default.qubit\", wires=4)"
   ]
  },
  {
   "cell_type": "code",
   "execution_count": 4,
   "metadata": {},
   "outputs": [],
   "source": [
    "def layer(W):\n",
    "\n",
    "    qml.Rot(W[0, 0], W[0, 1], W[0, 2], wires=0)\n",
    "    qml.Rot(W[1, 0], W[1, 1], W[1, 2], wires=1)\n",
    "    qml.Rot(W[2, 0], W[2, 1], W[2, 2], wires=2)\n",
    "    qml.Rot(W[3, 0], W[3, 1], W[3, 2], wires=3)\n",
    "\n",
    "    qml.CNOT(wires=[0, 1])\n",
    "    qml.CNOT(wires=[1, 2])\n",
    "    qml.CNOT(wires=[2, 3])\n",
    "    qml.CNOT(wires=[3, 0])"
   ]
  },
  {
   "cell_type": "code",
   "execution_count": 5,
   "metadata": {},
   "outputs": [],
   "source": [
    "def statepreparation(x):\n",
    "    AmplitudeEmbedding(features=x, wires=[0, 1, 2, 3],normalize=\"True\")"
   ]
  },
  {
   "cell_type": "code",
   "execution_count": 6,
   "metadata": {},
   "outputs": [],
   "source": [
    "@qml.qnode(dev)\n",
    "def circuit(weights, x):\n",
    "\n",
    "    statepreparation(x)\n",
    "\n",
    "    for W in weights:\n",
    "        layer(W)\n",
    "\n",
    "    return qml.expval(qml.PauliZ(0))"
   ]
  },
  {
   "cell_type": "code",
   "execution_count": 7,
   "metadata": {},
   "outputs": [],
   "source": [
    "def variational_classifier(weights, bias, x):\n",
    "    return circuit(weights, x) + bias"
   ]
  },
  {
   "cell_type": "code",
   "execution_count": 8,
   "metadata": {},
   "outputs": [],
   "source": [
    "def square_loss(labels, predictions):\n",
    "    loss = 0\n",
    "    for l, p in zip(labels, predictions):\n",
    "        loss = loss + (l - p) ** 2\n",
    "\n",
    "    loss = loss / len(labels)\n",
    "    return loss"
   ]
  },
  {
   "cell_type": "code",
   "execution_count": 9,
   "metadata": {},
   "outputs": [],
   "source": [
    "def accuracy(labels, predictions):\n",
    "\n",
    "    loss = 0\n",
    "    for l, p in zip(labels, predictions):\n",
    "        if abs(l - p) < 1e-5:\n",
    "            loss = loss + 1\n",
    "    loss = loss / len(labels)\n",
    "\n",
    "    return loss"
   ]
  },
  {
   "cell_type": "code",
   "execution_count": 10,
   "metadata": {},
   "outputs": [],
   "source": [
    "def cost(weights, bias, X, Y):\n",
    "    predictions = [variational_classifier(weights, bias, x) for x in X]\n",
    "    return square_loss(Y, predictions)"
   ]
  },
  {
   "cell_type": "code",
   "execution_count": 11,
   "metadata": {},
   "outputs": [
    {
     "name": "stdout",
     "output_type": "stream",
     "text": [
      "X = [ 8.95622687  7.69379096 -6.70465748  4.24016276  4.62700671  2.93521552\n",
      "  4.34076463  6.89291022 -8.62672292 -2.58876017 -7.84507024  5.88358241\n",
      " -0.99277275  0.25157788 -8.3322107   3.31507591], Y = -1\n",
      "X = [  3.47551045   7.80937602   9.82751954 -10.37554072   6.63996345\n",
      "  -2.23131919   7.97629672   3.8483499    0.17221987   7.12318987\n",
      "   3.94967525   0.9789792    1.85518955  -7.21624465  -8.08248391\n",
      "  -6.00514045], Y =  1\n",
      "X = [ 7.00089925 10.017248   -6.76919973  4.1769577   5.2713855   4.445373\n",
      "  3.6874947   6.40309056 -8.290264   -0.70789877 -6.80465005  7.82584615\n",
      " -0.35941163  1.07149591 -7.30264941  2.12762649], Y = -1\n",
      "X = [ 7.53647151 12.48675377 -6.43448853  5.86520887  6.27640522  2.83461639\n",
      "  3.7550088   5.04690856 -9.30025514 -4.29432118 -4.6350465  10.3461298\n",
      " -1.56272572  0.20389512 -8.68153982  4.57326595], Y = -1\n",
      "X = [ 7.39352     9.9303399  -7.37882649  5.00921781  3.11927397  2.21983274\n",
      "  4.18565454  7.39210137 -7.66550517 -3.74302855 -8.77703089  7.20697829\n",
      " -1.73167626 -0.62625766 -9.35825447  4.84482403], Y = -1\n"
     ]
    }
   ],
   "source": [
    "X = np.array(features, requires_grad=False)\n",
    "Y = np.array(labels, requires_grad=False)\n",
    "Y = Y * 2 - np.ones(len(Y))  # shift label from {0, 1} to {-1, 1}\n",
    "\n",
    "for i in range(5):\n",
    "    print(\"X = {}, Y = {: d}\".format(X[i], int(Y[i])))\n",
    "    \n",
    "######\n",
    "\n",
    "np.random.seed(0)\n",
    "num_data = len(Y)\n",
    "num_train = int(0.75 * num_data)\n",
    "index = np.random.permutation(range(num_data))\n",
    "feats_train = features[index[:num_train]]\n",
    "Y_train = Y[index[:num_train]]\n",
    "feats_val = features[index[num_train:]]\n",
    "Y_val = Y[index[num_train:]]\n",
    "\n",
    "# We need these later for plotting\n",
    "X_train = X[index[:num_train]]\n",
    "X_val = X[index[num_train:]]"
   ]
  },
  {
   "cell_type": "code",
   "execution_count": 12,
   "metadata": {},
   "outputs": [
    {
     "name": "stdout",
     "output_type": "stream",
     "text": [
      "[[[ 0.01764052  0.00400157  0.00978738]\n",
      "  [ 0.02240893  0.01867558 -0.00977278]\n",
      "  [ 0.00950088 -0.00151357 -0.00103219]\n",
      "  [ 0.00410599  0.00144044  0.01454274]]\n",
      "\n",
      " [[ 0.00761038  0.00121675  0.00443863]\n",
      "  [ 0.00333674  0.01494079 -0.00205158]\n",
      "  [ 0.00313068 -0.00854096 -0.0255299 ]\n",
      "  [ 0.00653619  0.00864436 -0.00742165]]\n",
      "\n",
      " [[ 0.02269755 -0.01454366  0.00045759]\n",
      "  [-0.00187184  0.01532779  0.01469359]\n",
      "  [ 0.00154947  0.00378163 -0.00887786]\n",
      "  [-0.01980796 -0.00347912  0.00156349]]] 0.0\n"
     ]
    }
   ],
   "source": [
    "np.random.seed(0)\n",
    "num_qubits = 4\n",
    "num_layers = 3\n",
    "weights_init = 0.01 * np.random.randn(num_layers, num_qubits, 3, requires_grad=True)\n",
    "bias_init = np.array(0.0, requires_grad=True)\n",
    "\n",
    "print(weights_init, bias_init)"
   ]
  },
  {
   "cell_type": "code",
   "execution_count": 13,
   "metadata": {},
   "outputs": [
    {
     "name": "stdout",
     "output_type": "stream",
     "text": [
      "Iter:     1 | Cost: 1.2580159 | Acc train: 0.4906667 | Acc validation: 0.5280000 \n",
      "Iter:     2 | Cost: 0.6667909 | Acc train: 0.7146667 | Acc validation: 0.7920000 \n",
      "Iter:     3 | Cost: 0.3650685 | Acc train: 1.0000000 | Acc validation: 1.0000000 \n",
      "Iter:     4 | Cost: 0.3293577 | Acc train: 1.0000000 | Acc validation: 1.0000000 \n",
      "Iter:     5 | Cost: 0.2763588 | Acc train: 1.0000000 | Acc validation: 1.0000000 \n",
      "Iter:     6 | Cost: 0.2683290 | Acc train: 1.0000000 | Acc validation: 1.0000000 \n",
      "Iter:     7 | Cost: 0.2656435 | Acc train: 1.0000000 | Acc validation: 1.0000000 \n",
      "Iter:     8 | Cost: 0.2383048 | Acc train: 1.0000000 | Acc validation: 1.0000000 \n",
      "Iter:     9 | Cost: 0.1752587 | Acc train: 1.0000000 | Acc validation: 1.0000000 \n",
      "Iter:    10 | Cost: 0.1317691 | Acc train: 1.0000000 | Acc validation: 1.0000000 \n",
      "Iter:    11 | Cost: 0.1316872 | Acc train: 1.0000000 | Acc validation: 1.0000000 \n",
      "Iter:    12 | Cost: 0.1768869 | Acc train: 1.0000000 | Acc validation: 1.0000000 \n",
      "Iter:    13 | Cost: 0.1863980 | Acc train: 1.0000000 | Acc validation: 1.0000000 \n",
      "Iter:    14 | Cost: 0.1449624 | Acc train: 1.0000000 | Acc validation: 1.0000000 \n",
      "Iter:    15 | Cost: 0.0954093 | Acc train: 1.0000000 | Acc validation: 1.0000000 \n"
     ]
    }
   ],
   "source": [
    "opt = NesterovMomentumOptimizer(0.1)\n",
    "batch_size = 5\n",
    "\n",
    "weights = weights_init\n",
    "bias = bias_init\n",
    "\n",
    "history_train = []\n",
    "history_validation = []\n",
    "\n",
    "for it in range(15):\n",
    "\n",
    "    # Update the weights by one optimizer step\n",
    "    batch_index = np.random.randint(0, num_train, (batch_size,))\n",
    "    X_train_batch = X_train[batch_index]\n",
    "    Y_train_batch = Y_train[batch_index]\n",
    "    weights, bias, _, _ = opt.step(cost, weights, bias, X_train_batch, Y_train_batch)\n",
    "\n",
    "    # Compute predictions on train and validation set\n",
    "    predictions_train = [np.sign(variational_classifier(weights, bias, f)) for f in X_train]\n",
    "    predictions_val = [np.sign(variational_classifier(weights, bias, f)) for f in X_val]\n",
    "\n",
    "    # Compute accuracy on train and validation set\n",
    "    acc_train = accuracy(Y_train, predictions_train)\n",
    "    acc_val = accuracy(Y_val, predictions_val)\n",
    "    \n",
    "    history_train.append(acc_train)\n",
    "    history_validation.append(acc_val)\n",
    "\n",
    "    print(\n",
    "        \"Iter: {:5d} | Cost: {:0.7f} | Acc train: {:0.7f} | Acc validation: {:0.7f} \"\n",
    "        \"\".format(it + 1, cost(weights, bias, features, Y), acc_train, acc_val)\n",
    "    )"
   ]
  },
  {
   "cell_type": "code",
   "execution_count": 14,
   "metadata": {},
   "outputs": [
    {
     "data": {
      "image/png": "[encoded data removed]",
      "text/plain": [
       "<Figure size 432x288 with 1 Axes>"
      ]
     },
     "metadata": {
      "needs_background": "light"
     },
     "output_type": "display_data"
    }
   ],
   "source": [
    "plt.plot(history_train)\n",
    "plt.plot(history_validation)\n",
    "plt.title('model accuracy')\n",
    "plt.ylabel('accuracy')\n",
    "plt.xlabel('epoch')\n",
    "plt.legend(['train', 'validation'], loc='upper left')\n",
    "plt.show()"
   ]
  },
  {
   "cell_type": "code",
   "execution_count": null,
   "metadata": {},
   "outputs": [],
   "source": []
  }
 ],
 "metadata": {
  "kernelspec": {
   "display_name": "Python 3",
   "language": "python",
   "name": "python3"
  },
  "language_info": {
   "codemirror_mode": {
    "name": "ipython",
    "version": 3
   },
   "file_extension": ".py",
   "mimetype": "text/x-python",
   "name": "python",
   "nbconvert_exporter": "python",
   "pygments_lexer": "ipython3",
   "version": "3.8.5"
  }
 },
 "nbformat": 4,
 "nbformat_minor": 5
}
